{
 "cells": [
  {
   "cell_type": "markdown",
   "metadata": {},
   "source": [
    "---\n",
    "# IMPORT"
   ]
  },
  {
   "cell_type": "code",
   "execution_count": 29,
   "metadata": {},
   "outputs": [],
   "source": [
    "import os\n",
    "import numpy as np\n",
    "import pandas as pd\n",
    "import ast\n",
    "\n",
    "from PIL import Image\n",
    "\n",
    "from tensorflow.keras.models import Model\n",
    "from tensorflow.keras.applications import EfficientNetB0\n",
    "from tensorflow.keras.layers import Dropout, Dense, Input, GlobalAveragePooling2D\n",
    "from tensorflow.keras.optimizers import Adam"
   ]
  },
  {
   "cell_type": "markdown",
   "metadata": {},
   "source": [
    "---\n",
    "# VARIABLES"
   ]
  },
  {
   "cell_type": "code",
   "execution_count": 30,
   "metadata": {},
   "outputs": [],
   "source": [
    "mapping = {0:'Anger', 1:'Disgust', 2:'Fear', 3:'Happiness', 4:'Neutral', 5:'Sadness', 6:'Surprise'}\n",
    "name_model = 'EmotionModelLastDayVersion1.h5'\n",
    "# name_model = 'EmotionModelBest.h5'\n",
    "bbox_label_file = 'bbox_0.75_publictest.csv'\n",
    "link_folder = 'public_test'\n",
    "size_image = (48, 48)"
   ]
  },
  {
   "cell_type": "markdown",
   "metadata": {},
   "source": [
    "---\n",
    "# LOAD MODEL"
   ]
  },
  {
   "cell_type": "code",
   "execution_count": 31,
   "metadata": {},
   "outputs": [],
   "source": [
    "def build_model():    \n",
    "    inputs = Input(shape=(48, 48, 3))\n",
    "    base_model = EfficientNetB0(include_top=False, weights='imagenet',\n",
    "                                drop_connect_rate=0.33, input_tensor=inputs)\n",
    "    x = GlobalAveragePooling2D()(base_model.output)\n",
    "    x = Dropout(.5, name=\"top_dropout\")(x)\n",
    "    outputs = Dense(7, activation='softmax')(x)\n",
    "    model = Model(inputs, outputs)\n",
    "\n",
    "    model.compile(optimizer=Adam(learning_rate=1e-3),\n",
    "                  loss='categorical_crossentropy',\n",
    "                  metrics=['accuracy'])\n",
    "    return model"
   ]
  },
  {
   "cell_type": "code",
   "execution_count": 32,
   "metadata": {},
   "outputs": [
    {
     "data": {
      "text/plain": [
       "<keras.src.engine.functional.Functional at 0x15d575db710>"
      ]
     },
     "execution_count": 32,
     "metadata": {},
     "output_type": "execute_result"
    }
   ],
   "source": [
    "model = build_model()\n",
    "model.load_weights(name_model)\n",
    "model"
   ]
  },
  {
   "cell_type": "markdown",
   "metadata": {},
   "source": [
    "---\n",
    "# PREDICT PUBLIC TEST - PRIVATE TEST"
   ]
  },
  {
   "cell_type": "code",
   "execution_count": 33,
   "metadata": {},
   "outputs": [],
   "source": [
    "def read_file_image(file_path):\n",
    "    test_data = []\n",
    "    label_file = pd.read_csv(bbox_label_file)\n",
    "    for i in range(len(label_file)):\n",
    "        pixels = Image.open(os.path.join(file_path, label_file.iloc[i]['file_name']))\n",
    "        bbox = label_file.iloc[i]['bbox']\n",
    "        bbox = ast.literal_eval(bbox)\n",
    "        pixels = pixels.crop((bbox[0], bbox[1], bbox[0] + bbox[2], bbox[1] + bbox[3]))\n",
    "        test_data.append(np.array(pixels.resize(size_image)))  \n",
    "    return test_data"
   ]
  },
  {
   "cell_type": "code",
   "execution_count": 34,
   "metadata": {},
   "outputs": [],
   "source": [
    "def preprocess_data_input(data):\n",
    "    processed_data = []\n",
    "    for each in data:\n",
    "        if len(each.shape) == 2:\n",
    "            each = np.expand_dims(each, axis=-1)\n",
    "            each = np.concatenate([each, each, each], axis=-1)\n",
    "        elif each.shape[2] == 1:\n",
    "            each = np.concatenate([each, each, each], axis=-1)\n",
    "        processed_data.append(each)\n",
    "    return np.array(processed_data)"
   ]
  },
  {
   "cell_type": "code",
   "execution_count": 35,
   "metadata": {},
   "outputs": [],
   "source": [
    "# Read data\n",
    "data = read_file_image(link_folder)\n",
    "processed_data = preprocess_data_input(data)"
   ]
  },
  {
   "cell_type": "code",
   "execution_count": 36,
   "metadata": {},
   "outputs": [
    {
     "name": "stdout",
     "output_type": "stream",
     "text": [
      "70/70 [==============================] - 7s 67ms/step\n"
     ]
    }
   ],
   "source": [
    "labels = model.predict(processed_data)\n",
    "labels = np.argmax(np.array(labels), axis=1)"
   ]
  },
  {
   "cell_type": "code",
   "execution_count": 37,
   "metadata": {},
   "outputs": [],
   "source": [
    "bbox_labels = pd.read_csv(bbox_label_file)\n",
    "result = pd.DataFrame({'file_name': bbox_labels['file_name'], 'bbox': bbox_labels['bbox'], 'emotion': list(map(lambda x: mapping[x], labels))})\n",
    "result.to_csv('emotion_result(version1).csv', index=False)"
   ]
  }
 ],
 "metadata": {
  "kernelspec": {
   "display_name": ".env",
   "language": "python",
   "name": "python3"
  },
  "language_info": {
   "codemirror_mode": {
    "name": "ipython",
    "version": 3
   },
   "file_extension": ".py",
   "mimetype": "text/x-python",
   "name": "python",
   "nbconvert_exporter": "python",
   "pygments_lexer": "ipython3",
   "version": "3.11.7"
  }
 },
 "nbformat": 4,
 "nbformat_minor": 2
}
