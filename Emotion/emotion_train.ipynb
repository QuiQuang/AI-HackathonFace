{
 "cells": [
  {
   "cell_type": "markdown",
   "metadata": {},
   "source": [
    "---\n",
    "# IMPORT"
   ]
  },
  {
   "cell_type": "code",
   "execution_count": 5,
   "metadata": {},
   "outputs": [],
   "source": [
    "import os\n",
    "import cv2\n",
    "import numpy as np\n",
    "import seaborn as sns\n",
    "import matplotlib.pyplot as plt\n",
    "import ast\n",
    "import pandas as pd\n",
    "from PIL import Image\n",
    "\n",
    "from sklearn.model_selection import train_test_split\n",
    "from sklearn.preprocessing import LabelEncoder\n",
    "\n",
    "from tensorflow.keras.models import Model\n",
    "from tensorflow.keras.applications import EfficientNetB0\n",
    "from tensorflow.keras.layers import Dropout, Dense, Input, GlobalAveragePooling2D\n",
    "from tensorflow.keras.optimizers import Adam\n",
    "from tensorflow.keras.callbacks import ModelCheckpoint, EarlyStopping, ReduceLROnPlateau\n",
    "from tensorflow.keras.preprocessing.image import ImageDataGenerator\n",
    "from sklearn.metrics import confusion_matrix, accuracy_score\n",
    "from tensorflow.keras.utils import to_categorical\n",
    "from IPython.display import clear_output"
   ]
  },
  {
   "cell_type": "markdown",
   "metadata": {},
   "source": [
    "---\n",
    "# VARIABLES"
   ]
  },
  {
   "cell_type": "markdown",
   "metadata": {},
   "source": [
    "- Categorized data folder tree:\n",
    "\n",
    "    data_cater                        \n",
    "    ├─ Anger              \n",
    "    ├─ Disgust                    \n",
    "    ├─ Fear             \n",
    "    ├─ Happiness         \n",
    "    ├─ Neutral    \n",
    "    ├─ Sadness             \n",
    "    └─ Surprise            "
   ]
  },
  {
   "cell_type": "code",
   "execution_count": 18,
   "metadata": {},
   "outputs": [],
   "source": [
    "EPOCHS = 100\n",
    "batch_size = 64\n",
    "data_cater = 'data_last'\n",
    "data_link = 'data_2'\n",
    "model_name = 'EmotionModelBest.h5'\n",
    "mapping = {0:'Anger', 1:'Disgust', 2:'Fear', 3:'Happiness', 4:'Neutral', 5:'Sadness', 6:'Surprise'}\n",
    "size_image = (48, 48)\n",
    "label_file_csv = 'last_label.csv'"
   ]
  },
  {
   "cell_type": "markdown",
   "metadata": {},
   "source": [
    "---\n",
    "# LOAD DATA FROM CATEGORRIZED - FOLDER"
   ]
  },
  {
   "cell_type": "markdown",
   "metadata": {},
   "source": [
    "- Uncategorized data folder tree:\n",
    "\n",
    "    data_link                       \n",
    "    ├─ img1.png              \n",
    "    ├─ img2.png                   \n",
    "    ├─ img3.png         \n",
    "    ├─ img4.png         \n",
    "    ├─ img5.png   \n",
    "    ├─ img6.png            \n",
    "    └─ ...            "
   ]
  },
  {
   "cell_type": "code",
   "execution_count": null,
   "metadata": {},
   "outputs": [],
   "source": [
    "# Show data to chart\n",
    "def data_visualization(classes, data):\n",
    "    fig, ax = plt.subplots(figsize=(9, 5))\n",
    "    ax.bar(classes, data)\n",
    "    ax.set(title=\"Dataset's distribution for each Emotion class\")\n",
    "    ax.set(xlabel=\"Emotions\", ylabel=\"#Images\");\n",
    "    ax.grid()\n",
    "\n",
    "# Load data to features and labels\n",
    "def load_data(data_path):\n",
    "    subfolders_ck = os.listdir(data_path)\n",
    "    data = []\n",
    "    labels_list = []\n",
    "    num_images_per_class = []\n",
    "\n",
    "    for category in subfolders_ck:\n",
    "        img_list = os.listdir(os.path.join(data_path, category))\n",
    "        \n",
    "        print('Loading:', len(img_list), 'images of category', category)\n",
    "        for img in img_list:\n",
    "            pixels=cv2.imread(os.path.join(data_path, category, img))\n",
    "            data.append(pixels)          \n",
    "            labels_list.append(category)\n",
    "        num_images_per_class.append(len(img_list))\n",
    "\n",
    "    le = LabelEncoder()\n",
    "    labels = le.fit_transform(labels_list)\n",
    "    labels = to_categorical(labels, 7)\n",
    "    data = np.array(data)\n",
    "\n",
    "    print(\"\\nTotal number of uploaded data:\", data.shape[0])\n",
    "    print(\"Data shape:\", (data.shape[1], data.shape[2], data.shape[3]))\n",
    "    data_visualization(subfolders_ck, num_images_per_class)\n",
    "    return data, labels"
   ]
  },
  {
   "cell_type": "code",
   "execution_count": null,
   "metadata": {},
   "outputs": [],
   "source": [
    "data, labels = load_data(data_cater)"
   ]
  },
  {
   "cell_type": "markdown",
   "metadata": {},
   "source": [
    "**Run only one version for loading data** "
   ]
  },
  {
   "cell_type": "markdown",
   "metadata": {},
   "source": [
    "---\n",
    "# LOAD DATA FROM UNCATEGORRIZED DATA FOLDER \n"
   ]
  },
  {
   "cell_type": "code",
   "execution_count": 9,
   "metadata": {},
   "outputs": [],
   "source": [
    "def read_file_image(file_path):\n",
    "    data = []\n",
    "    label = []\n",
    "    label_file = pd.read_csv(label_file_csv)\n",
    "    for i in range(len(label_file)):\n",
    "        pixels = Image.open(os.path.join(file_path, label_file.iloc[i]['file_name']))\n",
    "        bbox = label_file.iloc[i]['bbox']\n",
    "        bbox = ast.literal_eval(bbox)\n",
    "        pixels = pixels.crop((bbox[0], bbox[1], bbox[0] + bbox[2], bbox[1] + bbox[3]))\n",
    "        data.append(np.array(pixels.resize(size_image)))  \n",
    "\n",
    "        emotion = label_file.iloc[i]['emotion']\n",
    "        label.append(emotion)\n",
    "    le = LabelEncoder()\n",
    "    labels = le.fit_transform(label)\n",
    "    labels = to_categorical(labels, 7)\n",
    "    return data, labels\n",
    "\n",
    "def preprocess_data_input(data):\n",
    "    processed_data = []\n",
    "    for each in data:\n",
    "        if len(each.shape) == 2:\n",
    "            each = np.expand_dims(each, axis=-1)\n",
    "            each = np.concatenate([each, each, each], axis=-1)\n",
    "        elif each.shape[2] == 1:\n",
    "            each = np.concatenate([each, each, each], axis=-1)\n",
    "        processed_data.append(each)\n",
    "    return np.array(processed_data)"
   ]
  },
  {
   "cell_type": "code",
   "execution_count": 10,
   "metadata": {},
   "outputs": [],
   "source": [
    "data, labels = read_file_image(data_link)\n",
    "data = preprocess_data_input(data)"
   ]
  },
  {
   "cell_type": "markdown",
   "metadata": {},
   "source": [
    "---\n",
    "# PROCESS"
   ]
  },
  {
   "cell_type": "code",
   "execution_count": 11,
   "metadata": {},
   "outputs": [],
   "source": [
    "X_train, X_test, y_train, y_test = train_test_split(data, labels, test_size=0.3, shuffle=True, random_state=3)\n",
    "X_valid, X_test, y_valid, y_test = train_test_split(X_test, y_test, test_size=0.5, shuffle=True, random_state=3)"
   ]
  },
  {
   "cell_type": "code",
   "execution_count": 12,
   "metadata": {},
   "outputs": [],
   "source": [
    "trainAug = ImageDataGenerator(rotation_range=15,\n",
    "                              zoom_range=0.15,\n",
    "                              brightness_range=(.6, 1.2),\n",
    "                              shear_range=.15,\n",
    "                              horizontal_flip=True,\n",
    "                              fill_mode=\"nearest\")"
   ]
  },
  {
   "cell_type": "code",
   "execution_count": 13,
   "metadata": {},
   "outputs": [],
   "source": [
    "def build_model():    \n",
    "    inputs = Input(shape=(48, 48, 3))\n",
    "    base_model = EfficientNetB0(include_top=False, weights='imagenet',\n",
    "                                drop_connect_rate=0.33, input_tensor=inputs)\n",
    "    x = GlobalAveragePooling2D()(base_model.output)\n",
    "    x = Dropout(.5, name=\"top_dropout\")(x)\n",
    "    outputs = Dense(7, activation='softmax')(x)\n",
    "    model = Model(inputs, outputs)\n",
    "\n",
    "    model.compile(optimizer=Adam(learning_rate=1e-3),\n",
    "                  loss='categorical_crossentropy',\n",
    "                  metrics=['accuracy'])\n",
    "    return model"
   ]
  },
  {
   "cell_type": "markdown",
   "metadata": {},
   "source": [
    "---\n",
    "# TRAINING"
   ]
  },
  {
   "cell_type": "code",
   "execution_count": 14,
   "metadata": {},
   "outputs": [
    {
     "name": "stdout",
     "output_type": "stream",
     "text": [
      "WARNING:tensorflow:From d:\\Study\\Giáo trình\\AI Hackathon\\.env\\Lib\\site-packages\\keras\\src\\backend.py:1398: The name tf.executing_eagerly_outside_functions is deprecated. Please use tf.compat.v1.executing_eagerly_outside_functions instead.\n",
      "\n",
      "WARNING:tensorflow:From d:\\Study\\Giáo trình\\AI Hackathon\\.env\\Lib\\site-packages\\keras\\src\\layers\\normalization\\batch_normalization.py:979: The name tf.nn.fused_batch_norm is deprecated. Please use tf.compat.v1.nn.fused_batch_norm instead.\n",
      "\n",
      "[INFO] training network for 100 epochs...\n",
      "\n",
      "Epoch 1/100\n",
      "WARNING:tensorflow:From d:\\Study\\Giáo trình\\AI Hackathon\\.env\\Lib\\site-packages\\keras\\src\\utils\\tf_utils.py:492: The name tf.ragged.RaggedTensorValue is deprecated. Please use tf.compat.v1.ragged.RaggedTensorValue instead.\n",
      "\n",
      "WARNING:tensorflow:From d:\\Study\\Giáo trình\\AI Hackathon\\.env\\Lib\\site-packages\\keras\\src\\engine\\base_layer_utils.py:384: The name tf.executing_eagerly_outside_functions is deprecated. Please use tf.compat.v1.executing_eagerly_outside_functions instead.\n",
      "\n",
      "306/306 [==============================] - ETA: 0s - loss: 0.8686 - accuracy: 0.6919\n",
      "Epoch 1: val_accuracy improved from -inf to 0.69693, saving model to EmotionModelOverFitting.h5\n"
     ]
    },
    {
     "name": "stderr",
     "output_type": "stream",
     "text": [
      "d:\\Study\\Giáo trình\\AI Hackathon\\.env\\Lib\\site-packages\\keras\\src\\engine\\training.py:3103: UserWarning: You are saving your model as an HDF5 file via `model.save()`. This file format is considered legacy. We recommend using instead the native Keras format, e.g. `model.save('my_model.keras')`.\n",
      "  saving_api.save_model(\n"
     ]
    },
    {
     "name": "stdout",
     "output_type": "stream",
     "text": [
      "306/306 [==============================] - 248s 721ms/step - loss: 0.8686 - accuracy: 0.6919 - val_loss: 0.9480 - val_accuracy: 0.6969 - lr: 0.0010\n",
      "Epoch 2/100\n",
      "306/306 [==============================] - ETA: 0s - loss: 0.6256 - accuracy: 0.7887\n",
      "Epoch 2: val_accuracy improved from 0.69693 to 0.80818, saving model to EmotionModelOverFitting.h5\n",
      "306/306 [==============================] - 204s 666ms/step - loss: 0.6256 - accuracy: 0.7887 - val_loss: 0.5688 - val_accuracy: 0.8082 - lr: 0.0010\n",
      "Epoch 3/100\n",
      "306/306 [==============================] - ETA: 0s - loss: 0.5664 - accuracy: 0.8069\n",
      "Epoch 3: val_accuracy improved from 0.80818 to 0.82505, saving model to EmotionModelOverFitting.h5\n",
      "306/306 [==============================] - 201s 657ms/step - loss: 0.5664 - accuracy: 0.8069 - val_loss: 0.5323 - val_accuracy: 0.8251 - lr: 0.0010\n",
      "Epoch 4/100\n",
      "306/306 [==============================] - ETA: 0s - loss: 0.5292 - accuracy: 0.8186\n",
      "Epoch 4: val_accuracy improved from 0.82505 to 0.82957, saving model to EmotionModelOverFitting.h5\n",
      "306/306 [==============================] - 198s 646ms/step - loss: 0.5292 - accuracy: 0.8186 - val_loss: 0.5281 - val_accuracy: 0.8296 - lr: 0.0010\n",
      "Epoch 5/100\n",
      "306/306 [==============================] - ETA: 0s - loss: 0.5048 - accuracy: 0.8273\n",
      "Epoch 5: val_accuracy did not improve from 0.82957\n",
      "306/306 [==============================] - 194s 633ms/step - loss: 0.5048 - accuracy: 0.8273 - val_loss: 0.5243 - val_accuracy: 0.8255 - lr: 0.0010\n",
      "Epoch 6/100\n",
      "306/306 [==============================] - ETA: 0s - loss: 0.4831 - accuracy: 0.8333\n",
      "Epoch 6: val_accuracy did not improve from 0.82957\n",
      "306/306 [==============================] - 197s 644ms/step - loss: 0.4831 - accuracy: 0.8333 - val_loss: 0.5020 - val_accuracy: 0.8279 - lr: 0.0010\n",
      "Epoch 7/100\n",
      "306/306 [==============================] - ETA: 0s - loss: 0.4692 - accuracy: 0.8367\n",
      "Epoch 7: val_accuracy did not improve from 0.82957\n",
      "306/306 [==============================] - 193s 630ms/step - loss: 0.4692 - accuracy: 0.8367 - val_loss: 0.5240 - val_accuracy: 0.8260 - lr: 0.0010\n",
      "Epoch 8/100\n",
      "306/306 [==============================] - ETA: 0s - loss: 0.4518 - accuracy: 0.8427\n",
      "Epoch 8: val_accuracy did not improve from 0.82957\n",
      "306/306 [==============================] - 197s 644ms/step - loss: 0.4518 - accuracy: 0.8427 - val_loss: 0.5238 - val_accuracy: 0.8284 - lr: 0.0010\n",
      "Epoch 9/100\n",
      "306/306 [==============================] - ETA: 0s - loss: 0.4382 - accuracy: 0.8435\n",
      "Epoch 9: val_accuracy did not improve from 0.82957\n",
      "\n",
      "Epoch 9: ReduceLROnPlateau reducing learning rate to 0.0005000000237487257.\n",
      "306/306 [==============================] - 201s 658ms/step - loss: 0.4382 - accuracy: 0.8435 - val_loss: 0.5165 - val_accuracy: 0.8248 - lr: 0.0010\n",
      "Epoch 10/100\n",
      "306/306 [==============================] - ETA: 0s - loss: 0.3925 - accuracy: 0.8611\n",
      "Epoch 10: val_accuracy improved from 0.82957 to 0.83480, saving model to EmotionModelOverFitting.h5\n",
      "306/306 [==============================] - 203s 663ms/step - loss: 0.3925 - accuracy: 0.8611 - val_loss: 0.5099 - val_accuracy: 0.8348 - lr: 5.0000e-04\n",
      "Epoch 11/100\n",
      "306/306 [==============================] - ETA: 0s - loss: 0.3687 - accuracy: 0.8677\n",
      "Epoch 11: val_accuracy did not improve from 0.83480\n",
      "306/306 [==============================] - 201s 657ms/step - loss: 0.3687 - accuracy: 0.8677 - val_loss: 0.5241 - val_accuracy: 0.8305 - lr: 5.0000e-04\n",
      "Epoch 12/100\n",
      "306/306 [==============================] - ETA: 0s - loss: 0.3562 - accuracy: 0.8730\n",
      "Epoch 12: val_accuracy did not improve from 0.83480\n",
      "306/306 [==============================] - 202s 659ms/step - loss: 0.3562 - accuracy: 0.8730 - val_loss: 0.5466 - val_accuracy: 0.8246 - lr: 5.0000e-04\n",
      "Epoch 13/100\n",
      "306/306 [==============================] - ETA: 0s - loss: 0.3446 - accuracy: 0.8768\n",
      "Epoch 13: val_accuracy did not improve from 0.83480\n",
      "306/306 [==============================] - 201s 656ms/step - loss: 0.3446 - accuracy: 0.8768 - val_loss: 0.5403 - val_accuracy: 0.8289 - lr: 5.0000e-04\n",
      "Epoch 14/100\n",
      "306/306 [==============================] - ETA: 0s - loss: 0.3254 - accuracy: 0.8824\n",
      "Epoch 14: val_accuracy did not improve from 0.83480\n",
      "306/306 [==============================] - 201s 655ms/step - loss: 0.3254 - accuracy: 0.8824 - val_loss: 0.5572 - val_accuracy: 0.8217 - lr: 5.0000e-04\n",
      "Epoch 15/100\n",
      "306/306 [==============================] - ETA: 0s - loss: 0.3164 - accuracy: 0.8834\n",
      "Epoch 15: val_accuracy did not improve from 0.83480\n",
      "\n",
      "Epoch 15: ReduceLROnPlateau reducing learning rate to 0.0002500000118743628.\n",
      "306/306 [==============================] - 202s 660ms/step - loss: 0.3164 - accuracy: 0.8834 - val_loss: 0.5461 - val_accuracy: 0.8253 - lr: 5.0000e-04\n",
      "Epoch 16/100\n",
      "306/306 [==============================] - ETA: 0s - loss: 0.2740 - accuracy: 0.8989\n",
      "Epoch 16: val_accuracy did not improve from 0.83480\n",
      "306/306 [==============================] - 201s 655ms/step - loss: 0.2740 - accuracy: 0.8989 - val_loss: 0.5766 - val_accuracy: 0.8251 - lr: 2.5000e-04\n",
      "Epoch 17/100\n",
      "306/306 [==============================] - ETA: 0s - loss: 0.2552 - accuracy: 0.9074\n",
      "Epoch 17: val_accuracy did not improve from 0.83480\n",
      "306/306 [==============================] - 201s 657ms/step - loss: 0.2552 - accuracy: 0.9074 - val_loss: 0.6058 - val_accuracy: 0.8232 - lr: 2.5000e-04\n",
      "Epoch 18/100\n",
      "306/306 [==============================] - ETA: 0s - loss: 0.2380 - accuracy: 0.9126\n",
      "Epoch 18: val_accuracy did not improve from 0.83480\n",
      "306/306 [==============================] - 203s 664ms/step - loss: 0.2380 - accuracy: 0.9126 - val_loss: 0.6225 - val_accuracy: 0.8227 - lr: 2.5000e-04\n",
      "Epoch 19/100\n",
      "306/306 [==============================] - ETA: 0s - loss: 0.2251 - accuracy: 0.9166\n",
      "Epoch 19: val_accuracy did not improve from 0.83480\n",
      "306/306 [==============================] - 207s 676ms/step - loss: 0.2251 - accuracy: 0.9166 - val_loss: 0.6303 - val_accuracy: 0.8144 - lr: 2.5000e-04\n",
      "Epoch 20/100\n",
      "306/306 [==============================] - ETA: 0s - loss: 0.2143 - accuracy: 0.9183\n",
      "Epoch 20: val_accuracy did not improve from 0.83480\n",
      "\n",
      "Epoch 20: ReduceLROnPlateau reducing learning rate to 0.0001250000059371814.\n",
      "306/306 [==============================] - 201s 658ms/step - loss: 0.2143 - accuracy: 0.9183 - val_loss: 0.6605 - val_accuracy: 0.8217 - lr: 2.5000e-04\n",
      "Epoch 21/100\n",
      "306/306 [==============================] - ETA: 0s - loss: 0.1962 - accuracy: 0.9267\n",
      "Epoch 21: val_accuracy did not improve from 0.83480\n",
      "306/306 [==============================] - 202s 660ms/step - loss: 0.1962 - accuracy: 0.9267 - val_loss: 0.6815 - val_accuracy: 0.8191 - lr: 1.2500e-04\n",
      "Epoch 22/100\n",
      "306/306 [==============================] - ETA: 0s - loss: 0.1745 - accuracy: 0.9339\n",
      "Epoch 22: val_accuracy did not improve from 0.83480\n",
      "306/306 [==============================] - 202s 659ms/step - loss: 0.1745 - accuracy: 0.9339 - val_loss: 0.7073 - val_accuracy: 0.8222 - lr: 1.2500e-04\n",
      "Epoch 23/100\n",
      "306/306 [==============================] - ETA: 0s - loss: 0.1673 - accuracy: 0.9387\n",
      "Epoch 23: val_accuracy did not improve from 0.83480\n",
      "306/306 [==============================] - 202s 659ms/step - loss: 0.1673 - accuracy: 0.9387 - val_loss: 0.7193 - val_accuracy: 0.8239 - lr: 1.2500e-04\n",
      "Epoch 24/100\n",
      "306/306 [==============================] - ETA: 0s - loss: 0.1638 - accuracy: 0.9396\n",
      "Epoch 24: val_accuracy did not improve from 0.83480\n",
      "306/306 [==============================] - 204s 666ms/step - loss: 0.1638 - accuracy: 0.9396 - val_loss: 0.7159 - val_accuracy: 0.8198 - lr: 1.2500e-04\n",
      "Epoch 25/100\n",
      "306/306 [==============================] - ETA: 0s - loss: 0.1651 - accuracy: 0.9382\n",
      "Epoch 25: val_accuracy did not improve from 0.83480\n",
      "Restoring model weights from the end of the best epoch: 10.\n",
      "\n",
      "Epoch 25: ReduceLROnPlateau reducing learning rate to 6.25000029685907e-05.\n",
      "306/306 [==============================] - 203s 662ms/step - loss: 0.1651 - accuracy: 0.9382 - val_loss: 0.7266 - val_accuracy: 0.8222 - lr: 1.2500e-04\n",
      "Epoch 25: early stopping\n"
     ]
    }
   ],
   "source": [
    "with open(model_name, 'w'):\n",
    "    pass\n",
    "model = build_model()\n",
    "\n",
    "# Set up for training\n",
    "checkpoint = ModelCheckpoint(model_name, monitor='val_accuracy', verbose=1, save_best_only=True, mode='max')\n",
    "earlystopping = EarlyStopping(monitor='val_accuracy', patience=15, verbose=1, mode='auto', restore_best_weights=True)\n",
    "rlrop = ReduceLROnPlateau(monitor='val_accuracy', mode='max', patience=5, factor=0.5, min_lr=1e-6, verbose=1)\n",
    "callbacks = [checkpoint, earlystopping, rlrop]\n",
    "\n",
    "# Training\n",
    "print(f\"[INFO] training network for {EPOCHS} epochs...\\n\")\n",
    "hist = model.fit(trainAug.flow(X_train, y_train, batch_size=batch_size), \n",
    "                 steps_per_epoch=len(X_train) // batch_size,\n",
    "                 validation_data=(X_valid, y_valid),\n",
    "                 epochs=EPOCHS, callbacks=callbacks)"
   ]
  },
  {
   "cell_type": "markdown",
   "metadata": {},
   "source": [
    "---\n",
    "# PREDICT AND EVALUATE"
   ]
  },
  {
   "cell_type": "code",
   "execution_count": 19,
   "metadata": {},
   "outputs": [
    {
     "data": {
      "text/plain": [
       "<keras.src.engine.functional.Functional at 0x22c6566af10>"
      ]
     },
     "execution_count": 19,
     "metadata": {},
     "output_type": "execute_result"
    }
   ],
   "source": [
    "model = build_model()\n",
    "model.load_weights(model_name)\n",
    "clear_output()\n",
    "model"
   ]
  },
  {
   "cell_type": "code",
   "execution_count": 21,
   "metadata": {},
   "outputs": [
    {
     "name": "stdout",
     "output_type": "stream",
     "text": [
      "132/132 [==============================] - 11s 84ms/step\n",
      "Accuracy : 0.5570342205323194\n"
     ]
    }
   ],
   "source": [
    "predict = model.predict(X_test)\n",
    "predict = np.argmax(np.array(predict), axis=1)\n",
    "y_test = np.argmax(np.array(y_test), axis=1)\n",
    "\n",
    "print(\"Accuracy : \" + str(accuracy_score(y_test, predict)))"
   ]
  },
  {
   "cell_type": "code",
   "execution_count": 22,
   "metadata": {},
   "outputs": [
    {
     "data": {
      "image/png": "[encoded data removed]",
      "text/plain": [
       "<Figure size 640x480 with 2 Axes>"
      ]
     },
     "metadata": {},
     "output_type": "display_data"
    }
   ],
   "source": [
    "# Calculate confusion matrix\n",
    "conf_matrix = confusion_matrix(y_test, predict)\n",
    "sns.heatmap(conf_matrix, annot=True, fmt='d', cmap='Blues', xticklabels=mapping.values(), yticklabels=mapping.values())\n",
    "plt.xlabel('Predicted Labels')\n",
    "plt.ylabel('True Labels')\n",
    "plt.title('Confusion Matrix')\n",
    "plt.show()"
   ]
  }
 ],
 "metadata": {
  "kernelspec": {
   "display_name": ".env",
   "language": "python",
   "name": "python3"
  },
  "language_info": {
   "codemirror_mode": {
    "name": "ipython",
    "version": 3
   },
   "file_extension": ".py",
   "mimetype": "text/x-python",
   "name": "python",
   "nbconvert_exporter": "python",
   "pygments_lexer": "ipython3",
   "version": "3.11.7"
  }
 },
 "nbformat": 4,
 "nbformat_minor": 2
}
